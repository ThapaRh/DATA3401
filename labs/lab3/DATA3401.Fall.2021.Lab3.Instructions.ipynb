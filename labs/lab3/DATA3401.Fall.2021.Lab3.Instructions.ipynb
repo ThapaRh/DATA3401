{
 "cells": [
  {
   "cell_type": "markdown",
   "metadata": {},
   "source": [
    "# <center>Lab 3 &ndash; DATA 3401 (Fall 2021)</center>\n",
    "\n",
    "## Lab Date: 9/17\n",
    "## Due Date 9/24 (before the beginning of lab)\n",
    "\n",
    "## Lab Description\n",
    "The purpose of this lab is for you to gain practice with values, variables, and types as we have discussed in lecture"
   ]
  },
  {
   "cell_type": "markdown",
   "metadata": {},
   "source": [
    "## Exercise\n",
    "- As in the previous lab, copy and paste the cells below into a jupyter notebook titled Lab 3\n",
    "- Solve the problems and push them to a new Lab 3 folder in your GitHub repo prior to the deadline"
   ]
  },
  {
   "cell_type": "markdown",
   "metadata": {},
   "source": [
    "### Problem 1:\n",
    "Write a function that computes the first n Fibonacci numbers for a given integer n.  The first two Fibonacci numbers are 1, and the subsequent numbers are obtained by adding the previous two (so the first 6 Fibonacci numbers are 1, 1, 2, 3, 5, 8).\n",
    "Test your function with n = 12."
   ]
  },
  {
   "cell_type": "code",
   "execution_count": 2,
   "metadata": {},
   "outputs": [],
   "source": [
    "# Write your function here\n",
    "def fib(n):\n",
    "    l = [1,1]\n",
    "    for i in range(2,n):\n",
    "        val = l[i-1]+l[i-2]\n",
    "        l.append(val)\n",
    "    return l"
   ]
  },
  {
   "cell_type": "code",
   "execution_count": 3,
   "metadata": {},
   "outputs": [
    {
     "name": "stdout",
     "output_type": "stream",
     "text": [
      "[1, 1, 2, 3, 5, 8, 13, 21, 34, 55, 89, 144]\n"
     ]
    }
   ],
   "source": [
    "# Test your function here\n",
    "print(fib(12))\n"
   ]
  },
  {
   "cell_type": "markdown",
   "metadata": {},
   "source": [
    "### Problem 2:\n",
    "Write two functions `even(x)` and `odd(x)` that test if an integer x is even (or odd), and returns `True` if x is even (or odd) and `False` otherwise. Test both of your functions for correctness in the second and third cells below"
   ]
  },
  {
   "cell_type": "code",
   "execution_count": 21,
   "metadata": {},
   "outputs": [],
   "source": [
    "# Write your functions here\n",
    "def even(x):\n",
    "    if x % 2 ==0:\n",
    "        return True\n",
    "    return False\n",
    "\n",
    "def odd(x):\n",
    "    if x % 2 == 1:\n",
    "        return True\n",
    "    return False\n"
   ]
  },
  {
   "cell_type": "code",
   "execution_count": 23,
   "metadata": {},
   "outputs": [
    {
     "name": "stdout",
     "output_type": "stream",
     "text": [
      "Enter a number :5\n",
      "False\n"
     ]
    }
   ],
   "source": [
    "# Test your even function here\n",
    "x = int(input(\"Enter a number :\"))\n",
    "print(even(x))"
   ]
  },
  {
   "cell_type": "code",
   "execution_count": 24,
   "metadata": {},
   "outputs": [
    {
     "name": "stdout",
     "output_type": "stream",
     "text": [
      "True\n"
     ]
    }
   ],
   "source": [
    "# Test your odd function here\n",
    "print(odd(x))"
   ]
  },
  {
   "cell_type": "markdown",
   "metadata": {},
   "source": [
    "### Problem 3:\n",
    "Write a function that takes in a list of numbers, and outputs the maximum number in the list."
   ]
  },
  {
   "cell_type": "code",
   "execution_count": 37,
   "metadata": {},
   "outputs": [],
   "source": [
    "# Write your function here\n",
    "def maxim(l):\n",
    "    return max(l)\n"
   ]
  },
  {
   "cell_type": "code",
   "execution_count": 39,
   "metadata": {},
   "outputs": [
    {
     "name": "stdout",
     "output_type": "stream",
     "text": [
      "Enter a list of numbers separated by ,: 1,2,3,4,5\n",
      "5\n"
     ]
    }
   ],
   "source": [
    "# Test your function here (Note: test it on a list where the numbers are not in order)\n",
    "l= input(\"Enter a list of numbers separated by ,: \")\n",
    "l = l.split(\",\")\n",
    "print(maxim(l))\n"
   ]
  },
  {
   "cell_type": "markdown",
   "metadata": {},
   "source": [
    "### Problem 4:\n",
    "Write a function that takes a list of numbers as input and returns a list of the subset of elements that are less that 10. Test your solution."
   ]
  },
  {
   "cell_type": "code",
   "execution_count": 48,
   "metadata": {},
   "outputs": [],
   "source": [
    "# Write your function here\n",
    "def test(l):\n",
    "    list1 = []\n",
    "    for i in l:\n",
    "        if int(i) < 10:\n",
    "            list1.append(int(i))\n",
    "    return list1\n",
    "        \n",
    "    \n",
    "\n",
    "\n"
   ]
  },
  {
   "cell_type": "code",
   "execution_count": 49,
   "metadata": {},
   "outputs": [
    {
     "name": "stdout",
     "output_type": "stream",
     "text": [
      "Enter a list of numbers separated by ,: 222,2,2,3,4,4\n",
      "[2, 2, 3, 4, 4]\n"
     ]
    }
   ],
   "source": [
    "# Test your function here\n",
    "l= input(\"Enter a list of numbers separated by ,: \")\n",
    "l = l.split(\",\")\n",
    "print(test(l))\n"
   ]
  },
  {
   "cell_type": "markdown",
   "metadata": {},
   "source": [
    "### Problem 5: \n",
    "Write a function that takes a number `x_max` as input and returns a function that performs the same task as exercise 2, but for `x_max` instead of 10."
   ]
  },
  {
   "cell_type": "code",
   "execution_count": 50,
   "metadata": {},
   "outputs": [],
   "source": [
    "# Write your function here\n",
    "def test(l,x_max):\n",
    "    list1 = []\n",
    "    for i in l:\n",
    "        if int(i) < x_max:\n",
    "            list1.append(int(i))\n",
    "    return list1\n",
    "        "
   ]
  },
  {
   "cell_type": "code",
   "execution_count": 56,
   "metadata": {},
   "outputs": [
    {
     "name": "stdout",
     "output_type": "stream",
     "text": [
      "Enter a list of numbers separated by ,: 1,2,3,4,5\n",
      "Enter value to test the list with: 2\n",
      "[1]\n"
     ]
    }
   ],
   "source": [
    "# Test your function here\n",
    "l= input(\"Enter a list of numbers separated by ,: \")\n",
    "l = l.split(\",\")\n",
    "x_max = int(input(\"Enter value to test the list with: \"))\n",
    "print(test(l,x_max))\n"
   ]
  },
  {
   "cell_type": "markdown",
   "metadata": {},
   "source": [
    "### Problem 6:\n",
    "Write a function that takes an integer and returns all its divisors (for example, the divisors of 18 are 1, 2, 3, 6, 9, and 18)"
   ]
  },
  {
   "cell_type": "code",
   "execution_count": 1,
   "metadata": {},
   "outputs": [],
   "source": [
    "# Write your function here\n",
    "def divisors(x):\n",
    "    listval =[1]\n",
    "    n = x\n",
    "    while(n>0):\n",
    "        if x % n == 0:\n",
    "            listval.append(n)\n",
    "        n-=1\n",
    "    return listval        "
   ]
  },
  {
   "cell_type": "code",
   "execution_count": null,
   "metadata": {},
   "outputs": [],
   "source": []
  },
  {
   "cell_type": "code",
   "execution_count": 2,
   "metadata": {},
   "outputs": [
    {
     "name": "stdout",
     "output_type": "stream",
     "text": [
      "[1, 20, 10, 5, 4, 2, 1]\n"
     ]
    }
   ],
   "source": [
    "# Test your function here\n",
    "a=20\n",
    "print(divisors(a))"
   ]
  },
  {
   "cell_type": "markdown",
   "metadata": {},
   "source": [
    "## Problem 7:\n",
    "Write a function that reads takes a string and returns True if the string is a palindrome. (A palindrome is a string that reads the same forwards and backwards.)"
   ]
  },
  {
   "cell_type": "code",
   "execution_count": 3,
   "metadata": {},
   "outputs": [],
   "source": [
    "def palindrome(name):\n",
    "    new_name = name[::-1]\n",
    "    if new_name == name:\n",
    "        return True\n",
    "    return False"
   ]
  },
  {
   "cell_type": "code",
   "execution_count": 5,
   "metadata": {},
   "outputs": [
    {
     "name": "stdout",
     "output_type": "stream",
     "text": [
      "Enter a string:paap\n",
      "True\n"
     ]
    }
   ],
   "source": [
    "# Test your function here\n",
    "name = input(\"Enter a string:\")\n",
    "print(palindrome(name))\n"
   ]
  },
  {
   "cell_type": "markdown",
   "metadata": {},
   "source": [
    "## Problem 8:\n",
    "Write a function that takes an integer input between 1 and 10.  If the input is 4, 5, or 6, then display a message 'Congratulations, you win the prize!'.  If the input is less than 4 or greater than 6, then display a mesage 'Sorry, try again.'  If the input is less than 1, greater than 10, or not an integer, display a message 'Invalid input, please input an integer between 1 and 10'."
   ]
  },
  {
   "cell_type": "code",
   "execution_count": 29,
   "metadata": {},
   "outputs": [],
   "source": [
    "def game(a):\n",
    "    try:\n",
    "        x = int(a)\n",
    "    except ValueError:\n",
    "        print(\"Invalid Input, please put input between 1 to 10\")    \n",
    "        return\n",
    "    if x==4 or x==5 or x==6:\n",
    "        print(\"Congratulations, you win the prize!\")\n",
    "    elif x>0 and x<4 or x>6 and x<10:\n",
    "        print(\"Sorry, try again\")\n",
    "    else:\n",
    "        print(\"Invalid Input, please put input between 1 to 10\")\n",
    "    "
   ]
  },
  {
   "cell_type": "code",
   "execution_count": 32,
   "metadata": {},
   "outputs": [
    {
     "name": "stdout",
     "output_type": "stream",
     "text": [
      "Enter an integer:5\n",
      "Congratulations, you win the prize!\n"
     ]
    }
   ],
   "source": [
    "# Test your function here (Note, you should test all possible cases for completeness)\n",
    "x = input(\"Enter an integer:\")\n",
    "game(x)"
   ]
  },
  {
   "cell_type": "markdown",
   "metadata": {},
   "source": [
    "## Problem 9:\n",
    "Write a Rock-Paper-Scissors game function, that takes 2 strings, the inputs of player 1 and player 2, and output 1 or 2 corresponding to which player wins, or 0 if draw.\n",
    "\n",
    "Implement a Rock-Paper-Scissors game by soliciting input from 2 players, testing with this function, and repeating if there is a draw.\n",
    "\n",
    "Remember the rules:\n",
    "\n",
    "- Rock beats scissors\n",
    "- Scissors beats paper\n",
    "- Paper beats rock"
   ]
  },
  {
   "cell_type": "code",
   "execution_count": 1,
   "metadata": {},
   "outputs": [],
   "source": [
    "# Write your function here\n",
    "def rps(x,y):\n",
    "    a = \"rock\"\n",
    "    b = \"paper\"\n",
    "    c = \"scissor\"\n",
    "    if x==y:\n",
    "        print(\"there's a tie\")\n",
    "    elif x == a:\n",
    "        if y == b:\n",
    "            print(\"User 2 won\")\n",
    "        else:\n",
    "            print(\"User 1 won\")\n",
    "    elif x == b:\n",
    "        if y == a:\n",
    "            print(\"User 1 won\")\n",
    "        else:\n",
    "            print(\"User 2 won\")\n",
    "    elif x == c:\n",
    "        if y==a:\n",
    "            print(\"User 2 won\")\n",
    "        else:\n",
    "            print(\"User 1 won\")\n",
    "    else:\n",
    "        print(\"input invalid\")\n",
    "        \n"
   ]
  },
  {
   "cell_type": "code",
   "execution_count": 4,
   "metadata": {},
   "outputs": [
    {
     "name": "stdout",
     "output_type": "stream",
     "text": [
      "User 1 input: rock\n",
      "User 2 input: scissor\n",
      "User 1 won\n"
     ]
    }
   ],
   "source": [
    "# Test your function here (Note, you should test all possible cases for completeness)\n",
    "x = input(\"User 1 input: \")\n",
    "y = input(\"User 2 input: \")\n",
    "rps(x,y)"
   ]
  },
  {
   "cell_type": "code",
   "execution_count": null,
   "metadata": {},
   "outputs": [],
   "source": []
  }
 ],
 "metadata": {
  "kernelspec": {
   "display_name": "Python 3 (ipykernel)",
   "language": "python",
   "name": "python3"
  },
  "language_info": {
   "codemirror_mode": {
    "name": "ipython",
    "version": 3
   },
   "file_extension": ".py",
   "mimetype": "text/x-python",
   "name": "python",
   "nbconvert_exporter": "python",
   "pygments_lexer": "ipython3",
   "version": "3.8.10"
  }
 },
 "nbformat": 4,
 "nbformat_minor": 2
}
