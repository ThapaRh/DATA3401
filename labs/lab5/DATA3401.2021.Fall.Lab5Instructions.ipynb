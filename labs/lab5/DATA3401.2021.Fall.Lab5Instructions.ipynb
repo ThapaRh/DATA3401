{
 "cells": [
  {
   "cell_type": "markdown",
   "id": "eeaf510e",
   "metadata": {},
   "source": [
    "# <center>Lab 5 &ndash; DATA 3401 (Fall 2021)</center>\n",
    "\n",
    "## Lab Date: 10/8\n",
    "## Due Date 10/18 (**Note this is a Monday!) (before the beginning of lecture)\n",
    "\n",
    "## Lab Description\n",
    "The purpose of this lab is for you to code functions to handle matrices, vectors, and some standard operations on these.\n",
    "\n",
    "We will represent an m x n matrix as a list of lists as we have done for the Checkers and Tic-Tac-Toe boards.  A column vector will be an m x 1 matrix, and a row vector will be a 1 x n matrix."
   ]
  },
  {
   "cell_type": "markdown",
   "id": "c8a78e82",
   "metadata": {},
   "source": [
    "## Exercise 1\n",
    "Create a function `matrix(...)` that will create a matrix with m rows of length n. Initialize all entries to take value `value`, which defaults to be 0 if unspecified. "
   ]
  },
  {
   "cell_type": "code",
   "execution_count": 28,
   "id": "380b4bc7",
   "metadata": {},
   "outputs": [],
   "source": [
    "# Write your function here\n",
    "\n",
    "def matrix(m,n,x=0):\n",
    "        mat = []\n",
    "#         val = input(\"Do you want tp enter default value. Type y or n\")\n",
    "#         if val=='y':\n",
    "#             x = int(input(\"Enter value:\"))\n",
    "#         else:\n",
    "#             x = 0\n",
    "        #value =2\n",
    "        #x = int(value) if value else 0\n",
    "        for i in range(m):\n",
    "            a = []\n",
    "            for j in range(n):\n",
    "                a.append(x)\n",
    "            mat.append(a)                \n",
    "        return mat                 \n",
    "        "
   ]
  },
  {
   "cell_type": "code",
   "execution_count": 31,
   "id": "a6a439ab",
   "metadata": {},
   "outputs": [
    {
     "name": "stdout",
     "output_type": "stream",
     "text": [
      "[0, 0, 0]\n",
      "[0, 0, 0]\n"
     ]
    }
   ],
   "source": [
    "# Test your function here\n",
    "\n",
    "mat = matrix(2,3)  \n",
    "for rows in mat:\n",
    "    print(rows)\n",
    "        "
   ]
  },
  {
   "cell_type": "markdown",
   "id": "c7d76e1b",
   "metadata": {},
   "source": [
    "## Exercise 2\n",
    "Write a function to check if two matrices are equal (Note: you should first check that they are the same size!)"
   ]
  },
  {
   "cell_type": "code",
   "execution_count": 27,
   "id": "21f28f65",
   "metadata": {},
   "outputs": [],
   "source": [
    "# Write your function here\n",
    "def is_same(a,b):\n",
    "    if len(a)!=len(b):\n",
    "        return False\n",
    "    for i in range(len(a)):\n",
    "        for j in range(len(a)):\n",
    "            if(a[i][j]!=b[i][j]):\n",
    "                return False\n",
    "    return True\n"
   ]
  },
  {
   "cell_type": "code",
   "execution_count": 32,
   "id": "79392963",
   "metadata": {},
   "outputs": [
    {
     "name": "stdout",
     "output_type": "stream",
     "text": [
      "False\n"
     ]
    }
   ],
   "source": [
    "# Test your function here\n",
    "a = [[1,1,1],[2,2,2],[3,3,3]]\n",
    "#b = [[1,1,1],[2,2,2],[3,3,3]]\n",
    "#b = [[1,2,3],[2,2,2],[0,1,2]]\n",
    "b = [[1,1],[2,2]]\n",
    "print(is_same(a,b))\n"
   ]
  },
  {
   "cell_type": "markdown",
   "id": "152b0380",
   "metadata": {},
   "source": [
    "## Exercise 3\n",
    "Write the following functions for your matrix:\n",
    "1. `shape(matrix)` that returns a tuple of the form `(m,n)` with the number of rows (m) and columns (n) of the matrix\n",
    "1. `transpose(matrix)` that returns the transpose (`matrix[i][j]` becomes `matrix[j][i]`)\n",
    "1. `row(matrix,i)` and `col(matrix,j)` that return a list of the i--th row and the j--th column of the matrix\n",
    "1. `block(matrix,m0,m1,n0,n1)` that returns a new matrix which has the original matrix entries where the rows are between m0 and m1 (inclusive) and columns are between n0 and n1"
   ]
  },
  {
   "cell_type": "code",
   "execution_count": 1,
   "id": "10501615",
   "metadata": {},
   "outputs": [],
   "source": [
    "# Write your function here\n",
    "import numpy as np\n",
    "def shape(matrix):\n",
    "    row = 0\n",
    "    column = 0\n",
    "    for rows in matrix:\n",
    "        column = len(rows)\n",
    "        row +=1\n",
    "    return (row,column)\n",
    "\n",
    "def transpose(matrix):\n",
    "    new_transpose = [[matrix[j][i] for j in range(len(matrix))] for i in range(len(matrix[0]))]\n",
    "    return new_transpose\n",
    "\n",
    "def row(matrix,i):\n",
    "    j = 1\n",
    "    for rows in matrix:\n",
    "        if i == j:\n",
    "            return rows\n",
    "        j +=1\n",
    "        \n",
    "def column(matrix, i):\n",
    "    new_matrix = np.transpose(matrix)\n",
    "    j = 1\n",
    "    for column in new_matrix:\n",
    "        if i == j:\n",
    "            return column\n",
    "        j+=1\n",
    "        \n",
    "def block(matrix,m0,m1,n0,n1):\n",
    "#     row = 0\n",
    "#     column = 0\n",
    "#     for rows in matrix:\n",
    "#         column = len(rows)\n",
    "#         row += 1\n",
    "#     new_matrix=[]\n",
    "#     for i in range(row):\n",
    "#         a=[]\n",
    "#         if i == m0:\n",
    "#             while(i<=m1):\n",
    "#                 for j in range(column):\n",
    "#                     if j==n0:\n",
    "#                         while(j<=n1):\n",
    "#                             a.append(matrix[i][j])\n",
    "#                 new_matrix.append(a)\n",
    "#     return new_matrix \n",
    "    new_matrix = [matrix[i][n0:n1+1] for i in range(m0,m1+1)]\n",
    "    return new_matrix"
   ]
  },
  {
   "cell_type": "code",
   "execution_count": 3,
   "id": "831738b4",
   "metadata": {},
   "outputs": [
    {
     "name": "stdout",
     "output_type": "stream",
     "text": [
      "(3, 4)\n",
      "[[1, 2, 1], [2, 2, 2], [3, 2, 3], [5, 5, 4]]\n",
      "[2, 2, 2, 5]\n",
      "[2 2 2]\n",
      "[[2, 5], [3, 4]]\n"
     ]
    }
   ],
   "source": [
    "# Test your function here\n",
    "matrix = [[1,2,3,5],[2,2,2,5],[1,2,3,4]]\n",
    "print(shape(matrix))\n",
    "\n",
    "print(transpose(matrix))\n",
    "print(row(matrix,2))\n",
    "print(column(matrix,2))\n",
    "print(block(matrix,1,2,2,3))"
   ]
  },
  {
   "cell_type": "markdown",
   "id": "9be3462a",
   "metadata": {},
   "source": [
    "## Exercise 4\n",
    "Write functions to make the following special types of matrices:\n",
    "1. Identity matrices: `eye(n)` should have value 1 on its diagonal and 0 elsewhere\n",
    "1. `zeros(m,n)` and `ones(m,n)` that create matrices with all 0 and all 1 entries, respectively."
   ]
  },
  {
   "cell_type": "code",
   "execution_count": 14,
   "id": "8277de0d",
   "metadata": {},
   "outputs": [],
   "source": [
    "# Write your function here\n",
    "import numpy as np\n",
    "def eye(n):\n",
    "    matr = [[0]*n for i in range(n)]\n",
    "    for j in range(n):\n",
    "        matr[j][j]=1\n",
    "    for rows in matr:\n",
    "        print(rows)\n",
    "\n",
    "def zeros(m,n):\n",
    "    zer= [[0]*n for i in range(m)]\n",
    "    for rows in zer:\n",
    "        print(rows)\n",
    "\n",
    "def ones(m,n):\n",
    "    ret= [[1]*n for i in range(m)]\n",
    "    for rows in ret:\n",
    "        print(rows)\n",
    "\n",
    "    \n"
   ]
  },
  {
   "cell_type": "code",
   "execution_count": 15,
   "id": "a1b602f6",
   "metadata": {},
   "outputs": [
    {
     "name": "stdout",
     "output_type": "stream",
     "text": [
      "[1, 0, 0, 0, 0, 0, 0]\n",
      "[0, 1, 0, 0, 0, 0, 0]\n",
      "[0, 0, 1, 0, 0, 0, 0]\n",
      "[0, 0, 0, 1, 0, 0, 0]\n",
      "[0, 0, 0, 0, 1, 0, 0]\n",
      "[0, 0, 0, 0, 0, 1, 0]\n",
      "[0, 0, 0, 0, 0, 0, 1]\n",
      "[0, 0, 0]\n",
      "[0, 0, 0]\n",
      "[1, 1, 1]\n",
      "[1, 1, 1]\n"
     ]
    }
   ],
   "source": [
    "# Test your function here\n",
    "eye(7)\n",
    "zeros(2,3)\n",
    "ones(2,3)\n"
   ]
  },
  {
   "cell_type": "markdown",
   "id": "5ccf63f0",
   "metadata": {},
   "source": [
    "## Exercise 5\n",
    "Write functions to perform the following operations:\n",
    "1. Multiply a matrix by a scalar\n",
    "1. Take elementwise product of two matrices\n",
    "1. Take the dot product of two vectors and two matrices of the same size\n",
    "1. Multiply two matrices (note you should check that the sizes allow this)"
   ]
  },
  {
   "cell_type": "code",
   "execution_count": 66,
   "id": "c417b713",
   "metadata": {},
   "outputs": [],
   "source": [
    "# Write your function here\n",
    "def mul(matrix,n):\n",
    "    return [[i * n for i in rows] for rows in matrix]\n",
    "\n",
    "def elem_p(a,b):\n",
    "    if len(a)!=len(b):\n",
    "        return\n",
    "    r = 0\n",
    "    for rows in a:\n",
    "        r+=1\n",
    "    new_array = [[1]*r for i in range(r)]\n",
    "    for i in range(r):\n",
    "        for j in range(r):\n",
    "            new_array[i][j]=a[i][j]*b[i][j]\n",
    "    return new_array\n",
    "\n",
    "def dot_m(a,b):\n",
    "    if len(a)!=len(b):\n",
    "        return\n",
    "    r = 0\n",
    "    for rows in a:\n",
    "        r+=1\n",
    "    new_val = 0\n",
    "    for i in range(r):\n",
    "        for j in range(r):\n",
    "            new_val+=a[i][j]*b[i][j]\n",
    "    return new_val\n",
    "    \n",
    "def dot_v(a,b):\n",
    "    if len(a)!=len(b):\n",
    "        return\n",
    "    k = 0\n",
    "    for rows in a:\n",
    "        k+=1\n",
    "    new_val = 0\n",
    "    for i in range(k):\n",
    "        for j in range(k):\n",
    "            new_val+=a[i][j]*b[i][j]\n",
    "    return new_val  \n",
    "\n",
    "def multiply(a,b):\n",
    "    if len(a)!=len(b):\n",
    "        return\n",
    "    r=0\n",
    "    for rows in a:\n",
    "        r+=1\n",
    "    result =[[0]*r for i in range(r)]\n",
    "    # iterate through rows of X\n",
    "    for i in range(len(a)):\n",
    "       # iterate through columns of Y\n",
    "        for j in range(len(a[0])):\n",
    "           # iterate through rows of Y\n",
    "            for k in range(len(a)):\n",
    "                result[i][j] += a[i][k] * b[k][j]\n",
    "    return result\n",
    "    \n"
   ]
  },
  {
   "cell_type": "code",
   "execution_count": 67,
   "id": "544b192a",
   "metadata": {},
   "outputs": [
    {
     "name": "stdout",
     "output_type": "stream",
     "text": [
      "[[3, 6, 9], [12, 12, 15], [9, 9, 9]]\n",
      "[[1, 4, 9], [16, 16, 25], [9, 9, 9]]\n",
      "98\n",
      "46\n",
      "[[18, 19, 22], [35, 39, 47], [24, 27, 33]]\n"
     ]
    }
   ],
   "source": [
    "# Test your function here\n",
    "matrix =[[1,2,3],[4,4,5],[3,3,3]]\n",
    "print(mul(matrix,3))\n",
    "\n",
    "print(elem_p(matrix,matrix))\n",
    "\n",
    "\n",
    "print(dot_m(matrix,matrix))\n",
    "\n",
    "vec =[(1,2,3),(4,5,6)]\n",
    "print(dot_v(vec,vec))\n",
    "print(multiply(matrix,matrix))"
   ]
  },
  {
   "cell_type": "code",
   "execution_count": null,
   "id": "6281705d",
   "metadata": {},
   "outputs": [],
   "source": []
  },
  {
   "cell_type": "code",
   "execution_count": null,
   "id": "c555d7e7",
   "metadata": {},
   "outputs": [],
   "source": []
  }
 ],
 "metadata": {
  "kernelspec": {
   "display_name": "Python 3 (ipykernel)",
   "language": "python",
   "name": "python3"
  },
  "language_info": {
   "codemirror_mode": {
    "name": "ipython",
    "version": 3
   },
   "file_extension": ".py",
   "mimetype": "text/x-python",
   "name": "python",
   "nbconvert_exporter": "python",
   "pygments_lexer": "ipython3",
   "version": "3.8.10"
  }
 },
 "nbformat": 4,
 "nbformat_minor": 5
}
