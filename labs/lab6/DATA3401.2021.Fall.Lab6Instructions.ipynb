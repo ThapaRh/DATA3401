{
 "cells": [
  {
   "cell_type": "markdown",
   "id": "df023435",
   "metadata": {},
   "source": [
    "###### <center>Lab 6 &ndash; DATA 3401 (Fall 2021)</center>\n",
    "\n",
    "## Lab Date: 10/29\n",
    "## Due Date 11/5 (before the beginning of lab)\n",
    "\n",
    "## Lab Description\n",
    "The purpose of this lab is for you to code the Monte Hall problem and a simulator that will run it with different choices and simulate what is the best strategy\n",
    "\n",
    "## Monte Hall Problem\n",
    "In the 1960s there was a game show called Let's Make a Deal, whose host was Monte Hall. One famous game went as follows.\n",
    "1. The host shows the contestant 3 doors, and tells them that behind 1 door is a **brand new car**, while behind the other 2 doors there are goats\n",
    "1. The contestant chooses a door\n",
    "1. Now the host opens one of the remaining 2 doors and shows the contestant that this door held a goat\n",
    "1. The host asks the contestant if they would like to **switch** their choice to the remaining door, or to **stay** with their original guess\n",
    "\n",
    "Here is the question: should the contestant **switch** or **stay**?  "
   ]
  },
  {
   "cell_type": "markdown",
   "id": "601f1017",
   "metadata": {},
   "source": [
    "## Exercise 1\n",
    "Write a `game_setup` function that does the following:\n",
    "1. Creates a numpy array representing the 3 doors\n",
    "1. Creates a numpy array representing the prizes (0 for goat and 1 for car).  You should randomly choose one of the elements of the prize array to be a car and the others should be goats.\n",
    "1. Your function should return the arrays of doors and prizes"
   ]
  },
  {
   "cell_type": "code",
   "execution_count": 20,
   "id": "7d3b09e1",
   "metadata": {},
   "outputs": [],
   "source": [
    "# Write your function here\n",
    "import numpy as np\n",
    "import random\n",
    "import matplotlib.pyplot as plt\n",
    "\n",
    "def game_setup():\n",
    "    doors = np.array([0,1,2])# these are the doors \n",
    "    prizes = np.array([1,0,0])\n",
    "    random.shuffle(prizes)\n",
    "    #print(prizes)\n",
    "    return doors,prizes\n",
    "    "
   ]
  },
  {
   "cell_type": "code",
   "execution_count": 22,
   "id": "c7fa53d5",
   "metadata": {},
   "outputs": [
    {
     "name": "stdout",
     "output_type": "stream",
     "text": [
      "[1 2 3]\n",
      "[0 0 1]\n"
     ]
    }
   ],
   "source": [
    "# Test your function here\n",
    "doors,prizes = game_setup()\n",
    "print(doors)\n",
    "print(prizes)\n"
   ]
  },
  {
   "cell_type": "markdown",
   "id": "e0f5fa46",
   "metadata": {},
   "source": [
    "## Exercise 2\n",
    "Write a function `choose_door` that asks the user to input an integer 1,2,3 to choose a door and returns the door they chose.  You should catch any errors that the user might make and continue asking for input until the user inputs a valid choice."
   ]
  },
  {
   "cell_type": "code",
   "execution_count": 1,
   "id": "a38dc270",
   "metadata": {},
   "outputs": [],
   "source": [
    "# Write your function here\n",
    "def choose_door():\n",
    "    val = input(\"Choose the door number: \")\n",
    "    a = True\n",
    "    while(a):\n",
    "        try:\n",
    "            x = int(val)\n",
    "            if x==0 or x==1 or x==2:\n",
    "                return x\n",
    "            else: \n",
    "                val = input(\"Incorrect door number .Choose the door number again:\")\n",
    "                continue\n",
    "        except ValueError:\n",
    "            print(\"Oops invalid number.\")\n",
    "            val = input(\"Choose door number again. \")"
   ]
  },
  {
   "cell_type": "code",
   "execution_count": 2,
   "id": "0c7ee8ac",
   "metadata": {},
   "outputs": [
    {
     "name": "stdout",
     "output_type": "stream",
     "text": [
      "Choose the door number: 7\n",
      "Incorrect door number .Choose the door number again:10\n",
      "Incorrect door number .Choose the door number again:a\n",
      "Oops invalid number.\n",
      "Choose door number again. 1\n",
      "1\n"
     ]
    }
   ],
   "source": [
    "# Test your function here\n",
    "z = choose_door()    \n",
    "print(z)\n"
   ]
  },
  {
   "cell_type": "markdown",
   "id": "ea5aa764",
   "metadata": {},
   "source": [
    "## Exercise 3\n",
    "Write a function `switch_stay` that asks the user if they want to switch to the remaining door or stay with their original choice. Catch any errors and continue asking for input until the user inputs a valid choice."
   ]
  },
  {
   "cell_type": "code",
   "execution_count": 8,
   "id": "955d45c7",
   "metadata": {},
   "outputs": [],
   "source": [
    "# Write your function here\n",
    "def switch_stay(z):\n",
    "    inp = input(\"Do you want to switch to the remaining door. Type Y or N: \")\n",
    "    if inp == 'N':\n",
    "        return\n",
    "    else:\n",
    "        val = input(\"Choose the remaining door number: \")\n",
    "        a = True\n",
    "        while(a):\n",
    "            try:\n",
    "                x = int(val)\n",
    "                if x!=z and (x>=0 and x<=2):\n",
    "                    return x\n",
    "                else: \n",
    "                    val = input(\"Incorrect door number .Choose the door number again:\")\n",
    "                    continue\n",
    "            except ValueError:\n",
    "                print(\"Oops invalid number.\")\n",
    "                val = input(\"Choose door number again. \")\n",
    "                "
   ]
  },
  {
   "cell_type": "code",
   "execution_count": 12,
   "id": "aeed0e46",
   "metadata": {},
   "outputs": [
    {
     "name": "stdout",
     "output_type": "stream",
     "text": [
      "Do you want to switch to the remaining door. Type Y or N: Y\n",
      "Choose the remaining door number: 1\n",
      "Incorrect door number .Choose the door number again:5\n",
      "Incorrect door number .Choose the door number again:a\n",
      "Oops invalid number.\n",
      "Choose door number again. 2\n",
      "2\n"
     ]
    }
   ],
   "source": [
    "# Test your function here\n",
    "z=1 # lets say it's his/her first choosen value\n",
    "new_val = switch_stay(z)\n",
    "print(new_val)\n",
    "\n"
   ]
  },
  {
   "cell_type": "markdown",
   "id": "03f8ee53",
   "metadata": {},
   "source": [
    "## Exercise 4\n",
    "Write a Monte Hall game simulator that introduces the game and proceeds in the steps given in the introduction. After step 4, your function (the host) should tell the player if they won the car! or got the goat :-(\n",
    "1. Be sure to add print statements with appropriate messages to update the player on the status of the game\n",
    "1. In the step where the host reveals a door with a goat behind it, your host should randomly choose from the remaining doors that have goats behind them\n",
    "1. Test your function 3 times in the cells below"
   ]
  },
  {
   "cell_type": "code",
   "execution_count": 3,
   "id": "f3b53a89",
   "metadata": {},
   "outputs": [],
   "source": [
    "# Write your function here\n",
    "import numpy as np\n",
    "from random import shuffle, choice\n",
    "import matplotlib.pyplot as plt\n",
    "\n",
    "def choose_door():\n",
    "    val = input(\"Choose the door number: \")\n",
    "    a = True\n",
    "    while(a):\n",
    "        try:\n",
    "            x = int(val)\n",
    "            if x==0 or x==1 or x==2:\n",
    "                return x\n",
    "            else: \n",
    "                val = input(\"Incorrect door number .Choose the door number again:\")\n",
    "                continue\n",
    "        except ValueError:\n",
    "            print(\"Oops invalid number.\")\n",
    "            val = input(\"Choose door number again. \")\n",
    "\n",
    "def game_setup(my_door_index):\n",
    "    doors = np.array([0,1,2])# these are the doors \n",
    "    prizes = np.array([1,0,0])\n",
    "    shuffle(prizes)\n",
    "    #print(prizes)\n",
    "    should_switch = 0\n",
    "    door_prizes = dict(zip(doors,prizes))\n",
    "    #print(door_prizes)\n",
    "    remaining_doors = [x for x in doors if x!= my_door_index] \n",
    "    #print(remaining_doors)\n",
    "    for door in remaining_doors:\n",
    "        if door_prizes[door] == 0:\n",
    "            print(\"Revealing the door with goat: The goat is in door No: \"+ str(door))\n",
    "            remaining_doors.remove(door)\n",
    "            break\n",
    "            \n",
    "    switch_door = remaining_doors[0]\n",
    "    print(\"tThe remaining door is \"+ str(remaining_doors[0]) +\" Make a decision\")\n",
    "    inp = input(\"Do you want to switch to the remaining door. Type Y or N: \")\n",
    "    if inp == 'N':\n",
    "        should_switch =  0\n",
    "    else:\n",
    "        should_switch = 1\n",
    "    final_door_number = switch_door if should_switch == 1 else my_door_index\n",
    "    won_car = door_prizes[final_door_number]==1\n",
    "    \n",
    "    if won_car:\n",
    "        print(\"Congratulations you won the car\")\n",
    "    else:\n",
    "        print(\"sorry man\")\n",
    "    \n",
    "    \n"
   ]
  },
  {
   "cell_type": "code",
   "execution_count": 5,
   "id": "521ddb67",
   "metadata": {},
   "outputs": [
    {
     "name": "stdout",
     "output_type": "stream",
     "text": [
      "Choose the door number: 9\n",
      "Incorrect door number .Choose the door number again:q\n",
      "Oops invalid number.\n",
      "Choose door number again. 1\n",
      "Revealing the door with goat: The goat is in door No: 2\n",
      "tThe remaining door is 0 Make a decision\n",
      "Do you want to switch to the remaining door. Type Y or N: Y\n",
      "Congratulations you won the car\n",
      "Choose the door number: 1\n",
      "Revealing the door with goat: The goat is in door No: 2\n",
      "tThe remaining door is 0 Make a decision\n",
      "Do you want to switch to the remaining door. Type Y or N: N\n",
      "sorry man\n",
      "Choose the door number: 0\n",
      "Revealing the door with goat: The goat is in door No: 1\n",
      "tThe remaining door is 2 Make a decision\n",
      "Do you want to switch to the remaining door. Type Y or N: Y\n",
      "Congratulations you won the car\n"
     ]
    }
   ],
   "source": [
    "# Test your function here\n",
    "for i in range(3):\n",
    "    my_door_index = choose_door()\n",
    "    game_setup(my_door_index)\n"
   ]
  },
  {
   "cell_type": "markdown",
   "id": "e6dc32a7",
   "metadata": {},
   "source": [
    "## Exercise 5\n",
    "Modify your function from Exercise 4 to run a Monte Hall game automatically without any user input. \n",
    "1. Your function should have a Boolean variable `switch` whose default value is `True`, and indicates that the player will choose to switch (if True) or stay (if False)\n",
    "1. Your player door should randomly chosen for step 1 of the game\n",
    "1. Your function should output `1` if the player wins the car and `0` if the player gets the goat\n",
    "1. Your function should suppress any print statements from that in Exercise 4"
   ]
  },
  {
   "cell_type": "code",
   "execution_count": 8,
   "id": "bc19ffb2",
   "metadata": {},
   "outputs": [],
   "source": [
    "# Write your function here\n",
    "def game_setup():\n",
    "    doors = np.array([0,1,2])# these are the doors \n",
    "    prizes = np.array([1,0,0])\n",
    "    shuffle(prizes)\n",
    "    my_door_index = np.random.randint(0,3)\n",
    "    #print(prizes)\n",
    "    switch = True\n",
    "    door_prizes = dict(zip(doors,prizes))\n",
    "    #print(door_prizes)\n",
    "    print(\"Random guessed door is \" +str(my_door_index))\n",
    "    remaining_doors = [x for x in doors if x!= my_door_index] \n",
    "    #print(remaining_doors)\n",
    "    for door in remaining_doors:\n",
    "        if door_prizes[door] == 0:\n",
    "            #print(\"Revealing the door with goat: The goat is in door No: \"+ str(door))\n",
    "            remaining_doors.remove(door)\n",
    "            break\n",
    "            \n",
    "    switch_door = remaining_doors[0]\n",
    "    #print(\"tThe remaining door is \"+ str(remaining_doors[0]) +\" Make a decision\")\n",
    "    inp = input(\"Do you want to switch to the remaining door. Type Y or N: \")\n",
    "    if inp == 'N':\n",
    "        switch =  False\n",
    "    else:\n",
    "        switch = True\n",
    "    final_door_number = switch_door if switch == True else my_door_index\n",
    "    won_car = door_prizes[final_door_number]==1\n",
    "    \n",
    "    if won_car:\n",
    "        print(\"1\")\n",
    "    else:\n",
    "        print(\"0\")\n"
   ]
  },
  {
   "cell_type": "code",
   "execution_count": 9,
   "id": "ed1cd9bd",
   "metadata": {},
   "outputs": [
    {
     "name": "stdout",
     "output_type": "stream",
     "text": [
      "Random guessed door is 1\n",
      "Do you want to switch to the remaining door. Type Y or N: N\n",
      "0\n"
     ]
    }
   ],
   "source": [
    "# Test your function here\n",
    "game_setup()\n"
   ]
  },
  {
   "cell_type": "markdown",
   "id": "5adafe9f",
   "metadata": {},
   "source": [
    "## Exercise 6\n",
    "1. Write a script that specifies a number of trials `num_trials=100`, runs your automatic Monte Hall simulator from Exercise 5 with `switch=True`, `num_trials` times and stores the output as an ndarray\n",
    "1. Repeat the process from step 1 `num_trials` times.  Note you can do these 2 steps in a nested for loop -- create a numpy array of size `(num_trials,num_trials)` with each entry initialized to 0, and for each `[i,j]` entry, capture the output of your Monte Hall simulator\n",
    "1. Sum your numpy array from step 2 along the row axis (meaning add all elements of a given column together) to obtain an array where each entry captures how many times the player won out of `num_trials` games. Call this array `winners`.\n",
    "1. Using pyplots hist command (see Probability lecture), plot a histogram of the `winners` array from the previous step with 15 bins and range being the minimum of `winners` to the maximum of `winners`\n",
    "1. Also report the min, max, mean, median, and standard deviation of `winners`\n",
    "1. Repeat Steps 1--5 for `switch=False` (i.e., the player choosing to stay)"
   ]
  },
  {
   "cell_type": "code",
   "execution_count": 26,
   "id": "ca8f5e78",
   "metadata": {},
   "outputs": [
    {
     "name": "stdout",
     "output_type": "stream",
     "text": [
      "[[1. 1. 1. ... 0. 1. 1.]\n",
      " [0. 0. 0. ... 1. 1. 1.]\n",
      " [0. 0. 0. ... 0. 1. 0.]\n",
      " ...\n",
      " [0. 0. 1. ... 1. 1. 1.]\n",
      " [1. 0. 1. ... 1. 1. 1.]\n",
      " [1. 1. 0. ... 0. 0. 1.]]\n",
      "[57. 67. 69. 66. 68. 70. 64. 67. 61. 67. 76. 75. 75. 59. 65. 71. 70. 72.\n",
      " 59. 63. 63. 65. 57. 69. 68. 71. 64. 68. 63. 70. 61. 73. 74. 66. 65. 67.\n",
      " 75. 66. 68. 66. 70. 66. 62. 66. 68. 62. 76. 67. 62. 60. 69. 64. 71. 68.\n",
      " 71. 67. 70. 63. 66. 70. 57. 75. 68. 68. 63. 64. 63. 67. 68. 70. 59. 62.\n",
      " 72. 65. 66. 67. 70. 64. 66. 68. 68. 72. 64. 72. 74. 72. 59. 64. 75. 64.\n",
      " 71. 60. 71. 53. 69. 75. 59. 62. 63. 66.]\n"
     ]
    },
    {
     "data": {
      "image/png": "[encoded data removed]",
      "text/plain": [
       "<Figure size 432x288 with 1 Axes>"
      ]
     },
     "metadata": {
      "needs_background": "light"
     },
     "output_type": "display_data"
    },
    {
     "name": "stdout",
     "output_type": "stream",
     "text": [
      "The min, max, mean, standard deviation, median of the array is 53.0 76.0 66.73 4.8101039489807285 67.0\n"
     ]
    }
   ],
   "source": [
    "## Write and test your code here\n",
    "import numpy as np\n",
    "from random import shuffle, choice\n",
    "import matplotlib.pyplot as plt\n",
    "\n",
    "def game_setup(): \n",
    "    doors = np.array([0,1,2])# these are the doors \n",
    "    prizes = np.array([1,0,0])\n",
    "    shuffle(prizes)\n",
    "    my_door_index = np.random.randint(0,3)\n",
    "    #print(prizes)\n",
    "    switch = True\n",
    "    door_prizes = dict(zip(doors,prizes))\n",
    "    #print(door_prizes)\n",
    "    #print(\"Random guessed door is \" +str(my_door_index))\n",
    "    remaining_doors = [x for x in doors if x!= my_door_index] \n",
    "    #print(remaining_doors)\n",
    "    for door in remaining_doors:\n",
    "        if door_prizes[door] == 0:\n",
    "            #print(\"Revealing the door with goat: The goat is in door No: \"+ str(door))\n",
    "            remaining_doors.remove(door)\n",
    "            break\n",
    "            \n",
    "    switch_door = remaining_doors[0]\n",
    "    #print(\"tThe remaining door is \"+ str(remaining_doors[0]) +\" Make a decision\")\n",
    "#     inp = input(\"Do you want to switch to the remaining door. Type Y or N: \")\n",
    "#     if inp == 'N':\n",
    "#         switch =  False\n",
    "#     else:\n",
    "#         switch = True\n",
    "    final_door_number = switch_door if switch == True else my_door_index\n",
    "    won_car = door_prizes[final_door_number]==1\n",
    "    \n",
    "    if won_car:\n",
    "        return 1\n",
    "    else:\n",
    "        return 0\n",
    "\n",
    "\n",
    "\n",
    "num_trials = 100\n",
    "arr = []\n",
    "for a in range(100):\n",
    "    va = game_setup()\n",
    "    arr.append(va)\n",
    "array = np.zeros((100,100))\n",
    "for i in range(num_trials):\n",
    "    for j in range(num_trials):\n",
    "        val = game_setup()\n",
    "        array[i][j]= val\n",
    "print(array)\n",
    "\n",
    "winners = np.sum(array,axis=0)\n",
    "print(winners)\n",
    "plt.hist(winners, bins = 15)\n",
    "plt.show()\n",
    "\n",
    "minm = min(winners)\n",
    "maxm = max(winners)\n",
    "mean = winners.mean()\n",
    "stan_dev = winners.std()\n",
    "median = np.median(winners)\n",
    "\n",
    "print(\"The min, max, mean, standard deviation, median of the array is\", minm, maxm, mean, stan_dev,median)"
   ]
  },
  {
   "cell_type": "code",
   "execution_count": 27,
   "id": "bdbd0647",
   "metadata": {},
   "outputs": [
    {
     "name": "stdout",
     "output_type": "stream",
     "text": [
      "[[0. 0. 0. ... 0. 0. 0.]\n",
      " [1. 1. 1. ... 0. 0. 0.]\n",
      " [1. 0. 0. ... 1. 0. 0.]\n",
      " ...\n",
      " [1. 1. 0. ... 0. 0. 0.]\n",
      " [0. 1. 1. ... 0. 1. 0.]\n",
      " [1. 0. 0. ... 0. 1. 0.]]\n",
      "[37. 37. 36. 26. 29. 37. 27. 24. 36. 29. 31. 34. 37. 33. 34. 32. 30. 36.\n",
      " 35. 26. 30. 35. 38. 37. 36. 44. 34. 31. 27. 33. 32. 42. 36. 30. 30. 34.\n",
      " 35. 39. 39. 40. 34. 36. 34. 26. 33. 36. 44. 35. 43. 27. 32. 28. 30. 30.\n",
      " 32. 38. 34. 27. 30. 32. 31. 23. 29. 31. 32. 37. 38. 29. 21. 40. 35. 41.\n",
      " 42. 33. 29. 36. 37. 31. 39. 36. 34. 31. 34. 29. 31. 32. 32. 33. 36. 21.\n",
      " 32. 35. 32. 31. 34. 33. 34. 31. 33. 38.]\n"
     ]
    },
    {
     "data": {
      "image/png": "[encoded data removed]",
      "text/plain": [
       "<Figure size 432x288 with 1 Axes>"
      ]
     },
     "metadata": {
      "needs_background": "light"
     },
     "output_type": "display_data"
    },
    {
     "name": "stdout",
     "output_type": "stream",
     "text": [
      "The min, max, mean, standard deviation, median of the array is 21.0 44.0 33.25 4.576843890717708 33.0\n"
     ]
    }
   ],
   "source": [
    "import numpy as np\n",
    "from random import shuffle, choice\n",
    "import matplotlib.pyplot as plt\n",
    "\n",
    "def game_setup(): \n",
    "    doors = np.array([0,1,2])# these are the doors \n",
    "    prizes = np.array([1,0,0])\n",
    "    shuffle(prizes)\n",
    "    my_door_index = np.random.randint(0,3)\n",
    "    #print(prizes)\n",
    "    switch = False\n",
    "    door_prizes = dict(zip(doors,prizes))\n",
    "    #print(door_prizes)\n",
    "    #print(\"Random guessed door is \" +str(my_door_index))\n",
    "    remaining_doors = [x for x in doors if x!= my_door_index] \n",
    "    #print(remaining_doors)\n",
    "    for door in remaining_doors:\n",
    "        if door_prizes[door] == 0:\n",
    "            #print(\"Revealing the door with goat: The goat is in door No: \"+ str(door))\n",
    "            remaining_doors.remove(door)\n",
    "            break\n",
    "            \n",
    "    switch_door = remaining_doors[0]\n",
    "    #print(\"tThe remaining door is \"+ str(remaining_doors[0]) +\" Make a decision\")\n",
    "#     inp = input(\"Do you want to switch to the remaining door. Type Y or N: \")\n",
    "#     if inp == 'N':\n",
    "#         switch =  False\n",
    "#     else:\n",
    "#         switch = True\n",
    "    final_door_number = switch_door if switch == True else my_door_index\n",
    "    won_car = door_prizes[final_door_number]==1\n",
    "    \n",
    "    if won_car:\n",
    "        return 1\n",
    "    else:\n",
    "        return 0\n",
    "\n",
    "\n",
    "\n",
    "num_trials = 100\n",
    "arr = []\n",
    "for a in range(100):\n",
    "    va = game_setup()\n",
    "    arr.append(va)\n",
    "array = np.zeros((100,100))\n",
    "for i in range(num_trials):\n",
    "    for j in range(num_trials):\n",
    "        val = game_setup()\n",
    "        array[i][j]= val\n",
    "print(array)\n",
    "\n",
    "winners = np.sum(array,axis=0)\n",
    "print(winners)\n",
    "plt.hist(winners, bins = 15)\n",
    "plt.show()\n",
    "\n",
    "minm = min(winners)\n",
    "maxm = max(winners)\n",
    "mean = winners.mean()\n",
    "stan_dev = winners.std()\n",
    "median = np.median(winners)\n",
    "\n",
    "print(\"The min, max, mean, standard deviation, median of the array is\", minm, maxm, mean, stan_dev,median)"
   ]
  },
  {
   "cell_type": "markdown",
   "id": "f2cff055",
   "metadata": {},
   "source": [
    "## Exercise 7 -- Conclusion\n",
    "1. Based on your observations from Exercise 6, what do you estimate the probability of winning if the player chooses to switch vs. choosing to stay?\n",
    "1. Should the player switch doors or stay with their initial guess?"
   ]
  },
  {
   "cell_type": "code",
   "execution_count": null,
   "id": "65d2c11b",
   "metadata": {},
   "outputs": [],
   "source": [
    "#So, based on the exercises the probability of winning if the user chooses to stay is much less than the probability of winning ifthe user chooses to switch."
   ]
  },
  {
   "cell_type": "code",
   "execution_count": null,
   "id": "d7aea4a5",
   "metadata": {},
   "outputs": [],
   "source": [
    "# In my opinion the user should choose to switch because, see the probability of user choosing car in first guess is 1/3. And when the Host opens one of the door that doesnt have the car, there is huge probability that the next door which he hasn't opened is the door with the car. \n",
    "# so i think the player shold switch."
   ]
  },
  {
   "cell_type": "markdown",
   "id": "660d8f20",
   "metadata": {},
   "source": [
    "## Bonus\n",
    "Give a mathematical argument for which strategy (if any) is better. This should involve you computing the probability of success for each strategy and comparing these."
   ]
  },
  {
   "cell_type": "code",
   "execution_count": null,
   "id": "15422412",
   "metadata": {},
   "outputs": [],
   "source": [
    "# In my opinion the user should choose to switch because, see the probability of user choosing car in first guess is 1/3. And when the Host opens one of the door that doesnt have the car, there is huge probability that the next door which he hasn't opened is the door with the car. \n",
    "# so i think the player shold switch."
   ]
  }
 ],
 "metadata": {
  "kernelspec": {
   "display_name": "Python 3 (ipykernel)",
   "language": "python",
   "name": "python3"
  },
  "language_info": {
   "codemirror_mode": {
    "name": "ipython",
    "version": 3
   },
   "file_extension": ".py",
   "mimetype": "text/x-python",
   "name": "python",
   "nbconvert_exporter": "python",
   "pygments_lexer": "ipython3",
   "version": "3.8.10"
  }
 },
 "nbformat": 4,
 "nbformat_minor": 5
}
