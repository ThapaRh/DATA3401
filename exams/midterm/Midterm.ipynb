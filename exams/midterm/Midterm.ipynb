{
 "cells": [
  {
   "cell_type": "markdown",
   "id": "a1a4556b",
   "metadata": {},
   "source": [
    " # <center>Midterm Exam &ndash; DATA 3401 (Fall 2021)</center>\n",
    "\n",
    "## Start Date: 10/22\n",
    "## Due Date: 10/24 (at the **end** of the lab period (5:00pm))\n",
    "There will be **no Lab on Friday 10/24**\n",
    "\n",
    "## Midterm Rules\n",
    "This midterm exam is essentially like a short-term lab. Please work the exercises below **on your own**.  When you have completed the exam, you should push your completed jupyter notebook to your GitHub repo for this class in the **Exams->Midterm** folder.\n",
    "\n",
    "You may not discuss the problems with **anyone else**, including persons on an online internet forum. Consulting an outside source like this will be considered an academic integrity violation.\n",
    "\n",
    "You may use all class resources including previous labs and lectures, and anything posted on the course GitHub repo. \n",
    "\n",
    "You may not use any function that trivializes a problem. For example, if I ask you to write a `max` function that computes the maximum entry in a list, you are not allowed to use the pre-defined Python function `max`; you must write your own."
   ]
  },
  {
   "cell_type": "markdown",
   "id": "bd520a75",
   "metadata": {},
   "source": [
    "## Exercise 1\n",
    "1. Write a script or function that asks the user to input 3 numbers, and output the product of the 3 numbers.\n",
    "1. Your code should display an error message if one of the inputs is not a number.\n",
    "1. Test your code on the following inputs:  \n",
    "    1. (5, -10, 20.0)\n",
    "    1. (1, \"blah\", 5)"
   ]
  },
  {
   "cell_type": "code",
   "execution_count": 56,
   "id": "be1ef7d4",
   "metadata": {},
   "outputs": [],
   "source": [
    "## Write your code here\n",
    "def numbers(a,b,c):\n",
    "    output=0\n",
    "    try:\n",
    "        output = int(a)*int(b)*int(c)\n",
    "    except:\n",
    "        return \"One of the inputs is not a number.\"\n",
    "\n",
    "    return output"
   ]
  },
  {
   "cell_type": "code",
   "execution_count": 57,
   "id": "e20e452c",
   "metadata": {},
   "outputs": [
    {
     "name": "stdout",
     "output_type": "stream",
     "text": [
      "Enter three numbers in the form a,b,c: 1,2,3\n",
      "6\n"
     ]
    }
   ],
   "source": [
    "## Test your code here\n",
    "inp = input(\"Enter three numbers in the form a,b,c: \")\n",
    "a,b,c = inp.split(\",\")\n",
    "print(numbers(a,b,c))"
   ]
  },
  {
   "cell_type": "markdown",
   "id": "8a0efd3a",
   "metadata": {},
   "source": [
    "## Exercise 2\n",
    "Suppose the first element of a sequence is $a_0 = 1$, the second element is $a_1 = 3$, and for every $i>1$, the $i$--th element of the sequence is defined by the recursive relation $a_i = \\frac{(a_{i-1}-a_{i-2})^2}{3}$. (So $a_2 = 4/3$)\n",
    "1. Write a function which outputs the $n$--th element of this sequence for a given integer $n$\n",
    "2. Test your function for $n = 1, 5, 10, 15,$ and $20$"
   ]
  },
  {
   "cell_type": "code",
   "execution_count": 44,
   "id": "b0d8d16b",
   "metadata": {},
   "outputs": [],
   "source": [
    "# Write your function here\n",
    "def sequence(n,a0,a1):\n",
    "#     if n==0:\n",
    "#         return 1\n",
    "#     elif n==1:\n",
    "#         return 3\n",
    "#     else:\n",
    "#         ai=float(((a1-a0)**2)/3)\n",
    "#         a1=a0\n",
    "#         print(a1)\n",
    "#         a0=ai\n",
    "#         print(a0)\n",
    "#         return sequence(n-1,a0,a1)\n",
    "    \n",
    "# def factorial(x):\n",
    "#     if x==1:\n",
    "#         return 1\n",
    "#     else:\n",
    "#         return x*factorial(x-1)\n",
    "    if n==0:\n",
    "        return 1\n",
    "    if n==1:\n",
    "        return 3\n",
    "    ai = 0\n",
    "    for i in range(2,n):\n",
    "        ai=float(((a1-a0)**2)/3)\n",
    "        a1=a0\n",
    "        #print(a1)\n",
    "        a0=ai\n",
    "    return ai\n",
    "\n",
    "\n",
    "        \n",
    "        "
   ]
  },
  {
   "cell_type": "code",
   "execution_count": 45,
   "id": "32238691",
   "metadata": {},
   "outputs": [
    {
     "name": "stdout",
     "output_type": "stream",
     "text": [
      "3\n",
      "0.5601280292638317\n",
      "0.07329531188406406\n",
      "4.703542506906009e-26\n",
      "2.1282902349419102e-212\n"
     ]
    }
   ],
   "source": [
    "# Test your function here\n",
    "a0 = float(1)\n",
    "a1 = float(3)\n",
    "print(sequence(1,a0,a1))\n",
    "print(sequence(5,a0,a1))\n",
    "print(sequence(7,a0,a1))\n",
    "print(sequence(15,a0,a1))\n",
    "print(sequence(20,a0,a1))"
   ]
  },
  {
   "cell_type": "markdown",
   "id": "7ebe7e93",
   "metadata": {},
   "source": [
    "## Exercise 3\n",
    "1. Write a function which takes a list as input and outputs the largest **integer** entry. If there is none, return `None`.\n",
    "1. Test your function on the following lists\n",
    "    1. \\[ 1, 9, 10.2, 6, -2\\]\n",
    "    1. \\[1.2, 3/4, \"Hello World\"\\]"
   ]
  },
  {
   "cell_type": "code",
   "execution_count": 54,
   "id": "a6707782",
   "metadata": {},
   "outputs": [],
   "source": [
    "# Write your function here\n",
    "def find_largest(a):\n",
    "    if len(a)==0:\n",
    "        return None\n",
    "    largest = a[0]\n",
    "    for i in range(len(a)):\n",
    "        try:\n",
    "            b = float(a[i])\n",
    "        except:\n",
    "            return \"There is at least one non integer value\"\n",
    "            return\n",
    "        if a[i]>largest:\n",
    "            largest = a[i]\n",
    "    return largest\n",
    "        "
   ]
  },
  {
   "cell_type": "code",
   "execution_count": 55,
   "id": "1e0e6508",
   "metadata": {},
   "outputs": [
    {
     "name": "stdout",
     "output_type": "stream",
     "text": [
      "10.2\n",
      "There is at least one non integer value\n"
     ]
    }
   ],
   "source": [
    "# Test your function here\n",
    "a=[ 1, 9, 10.2, 6, -2]\n",
    "b=[1.2, 3/4, \"Hello World\"]\n",
    "\n",
    "print(find_largest(a))\n",
    "print(find_largest(b))\n"
   ]
  },
  {
   "cell_type": "markdown",
   "id": "b3b43d5a",
   "metadata": {},
   "source": [
    "## Exercise 4\n",
    "1. Create a program that will make a deck of cards. Each card should be represented as a tuple of the form `(value, suit)`, where `value` is a number between 2 and 10, Jack, Queen, King, or Ace, and `suit` is one of Spades, Clubs, Diamonds, or Hearts.\n",
    "1. Create a function that takes in a hand (list) of 5 cards, and determines whether or not the hand is a \"flush\", meaning that all 5 cards are of the same suit.\n",
    "1. Test your function by inputting the following hands:\n",
    "    1. Ace of Hearts, King of Hearts, Queen of Hearts, Jack of Hearts, 2 of Hearts\n",
    "    1. 2 of Clubs, 3 of Spades, 4 of Clubs, 10 of Diamonds, Jack of Spades"
   ]
  },
  {
   "cell_type": "code",
   "execution_count": 29,
   "id": "8382ee21",
   "metadata": {},
   "outputs": [],
   "source": [
    "def make_cards():\n",
    "    arr=[]\n",
    "    s=[\"Spade\",\"Clubs\",\"Diamonds\",\"Hearts\"]\n",
    "    for i in range(4):\n",
    "        a=[]\n",
    "        for j in range(1,14):\n",
    "            b = str(j)\n",
    "            if b==\"1\":\n",
    "                b=\"A\"\n",
    "            elif b == \"11\":\n",
    "                b=\"J\"\n",
    "            elif b == \"12\":\n",
    "                b=\"Q\"\n",
    "            elif b == \"13\":\n",
    "                b=\"K\"            \n",
    "            a.append((b,s[i]))\n",
    "        arr.append(a)\n",
    "    return arr\n",
    "\n",
    "def check_flush(a):\n",
    "    for i in range(1,len(a)):\n",
    "        #print(a[i][1])\n",
    "        if a[i][1]!=a[i-1][1]:\n",
    "            return \"Not a flush\"\n",
    "    return \"It's a flush\"\n",
    "    \n",
    "        \n",
    "        \n",
    "    "
   ]
  },
  {
   "cell_type": "code",
   "execution_count": 30,
   "id": "58414a96",
   "metadata": {},
   "outputs": [
    {
     "name": "stdout",
     "output_type": "stream",
     "text": [
      "[('A', 'Spade'), ('2', 'Spade'), ('3', 'Spade'), ('4', 'Spade'), ('5', 'Spade'), ('6', 'Spade'), ('7', 'Spade'), ('8', 'Spade'), ('9', 'Spade'), ('10', 'Spade'), ('J', 'Spade'), ('Q', 'Spade'), ('K', 'Spade')]\n",
      "\n",
      "\n",
      "[('A', 'Clubs'), ('2', 'Clubs'), ('3', 'Clubs'), ('4', 'Clubs'), ('5', 'Clubs'), ('6', 'Clubs'), ('7', 'Clubs'), ('8', 'Clubs'), ('9', 'Clubs'), ('10', 'Clubs'), ('J', 'Clubs'), ('Q', 'Clubs'), ('K', 'Clubs')]\n",
      "\n",
      "\n",
      "[('A', 'Diamonds'), ('2', 'Diamonds'), ('3', 'Diamonds'), ('4', 'Diamonds'), ('5', 'Diamonds'), ('6', 'Diamonds'), ('7', 'Diamonds'), ('8', 'Diamonds'), ('9', 'Diamonds'), ('10', 'Diamonds'), ('J', 'Diamonds'), ('Q', 'Diamonds'), ('K', 'Diamonds')]\n",
      "\n",
      "\n",
      "[('A', 'Hearts'), ('2', 'Hearts'), ('3', 'Hearts'), ('4', 'Hearts'), ('5', 'Hearts'), ('6', 'Hearts'), ('7', 'Hearts'), ('8', 'Hearts'), ('9', 'Hearts'), ('10', 'Hearts'), ('J', 'Hearts'), ('Q', 'Hearts'), ('K', 'Hearts')]\n",
      "\n",
      "\n",
      "It's a flush\n",
      "Not a flush\n"
     ]
    }
   ],
   "source": [
    "# Test your functions here\n",
    "array_card = make_cards()\n",
    "for row in array_card:\n",
    "    print(row)\n",
    "    print(\"\\n\")\n",
    "\n",
    "print(check_flush([('A',\"Hearts\"),('2',\"Hearts\"),('Q',\"Hearts\"),('K',\"Hearts\"),('J',\"Hearts\")]))\n",
    "print(check_flush([('2',\"Clubs\"),('3',\"Spade\"),('4',\"Clubs\"),('10',\"Diamonds\"),('J',\"Spade\")]))"
   ]
  },
  {
   "cell_type": "markdown",
   "id": "f2706492",
   "metadata": {},
   "source": [
    "## Exercise 5\n",
    "1. Write a function or script that takes in a string and whose output is the input string minus all of a specified character.  For example, an input of \"Hello World\" where \"l\" is removed should result in \"Heo Word\"\n",
    "1. Test your function by specifying \"i\" to be removed from \"Supercalifragilisticexpialidocious\"\n",
    "1. Test your function by specifying \"data\" to be removed from \"data 3401 introduction to python for data science\""
   ]
  },
  {
   "cell_type": "code",
   "execution_count": 71,
   "id": "e263f5dc",
   "metadata": {},
   "outputs": [],
   "source": [
    "# Write your function here\n",
    "def remove(wor, ch):\n",
    "    len2=len(ch)\n",
    "    n=len(wor)\n",
    "    j=0\n",
    "    count = 0\n",
    "    n_s = \"\"\n",
    "    if ch not in wor:\n",
    "        return\n",
    "    if len(ch)==1:\n",
    "        word = list(wor)\n",
    "        for i in range(n):\n",
    "                if word[i] != ch:\n",
    "                    word[j]=word[i]\n",
    "                    #print(word[j])\n",
    "                    j+=1\n",
    "        new_word = (\"\".join(word[0:j]))\n",
    "        return new_word\n",
    "    else:\n",
    "        res = wor.split()\n",
    "        for words in res:\n",
    "            if words!=ch:\n",
    "                #print(words)\n",
    "                #print(ch)\n",
    "                n_s+=words + \" \"\n",
    "                #print(n_s)\n",
    "        return n_s"
   ]
  },
  {
   "cell_type": "code",
   "execution_count": 77,
   "id": "3653c4ae",
   "metadata": {},
   "outputs": [
    {
     "name": "stdout",
     "output_type": "stream",
     "text": [
      "Heo Word\n",
      "Supercalfraglstcexpaldocous\n",
      "3401 introduction to python for science \n"
     ]
    }
   ],
   "source": [
    "# Test your function here\n",
    "word1 = \"Hello World\"\n",
    "w= \"Supercalifragilisticexpialidocious\"\n",
    "word2 = \"data 3401 introduction to python for data science\"\n",
    "print(remove(word1, \"l\"))\n",
    "print(remove(w, \"i\"))\n",
    "print(remove(word2, \"data\"))"
   ]
  },
  {
   "cell_type": "code",
   "execution_count": null,
   "id": "f546a12c",
   "metadata": {},
   "outputs": [],
   "source": []
  }
 ],
 "metadata": {
  "kernelspec": {
   "display_name": "Python 3 (ipykernel)",
   "language": "python",
   "name": "python3"
  },
  "language_info": {
   "codemirror_mode": {
    "name": "ipython",
    "version": 3
   },
   "file_extension": ".py",
   "mimetype": "text/x-python",
   "name": "python",
   "nbconvert_exporter": "python",
   "pygments_lexer": "ipython3",
   "version": "3.8.10"
  }
 },
 "nbformat": 4,
 "nbformat_minor": 5
}
